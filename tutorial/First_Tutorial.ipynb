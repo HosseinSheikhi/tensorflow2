{
 "cells": [
  {
   "cell_type": "code",
   "execution_count": 3,
   "metadata": {},
   "outputs": [],
   "source": [
    "import tensorflow as tf\n",
    "import numpy as np"
   ]
  },
  {
   "cell_type": "markdown",
   "metadata": {},
   "source": [
    "Lets play by two type of widely use tensors\n",
    "1- constants: as its names show you cannot change values in a constant\n",
    "2- variables"
   ]
  },
  {
   "cell_type": "code",
   "execution_count": 4,
   "metadata": {},
   "outputs": [
    {
     "name": "stdout",
     "output_type": "stream",
     "text": [
      "tf.Tensor([1 2 3], shape=(3,), dtype=int32)\n",
      "tf.Tensor(\n",
      "[[1. 2. 3.]\n",
      " [4. 5. 6.]], shape=(2, 3), dtype=float64)\n",
      "<tf.Variable 'Variable:0' shape=(2, 3) dtype=float64, numpy=\n",
      "array([[1., 2., 3.],\n",
      "       [4., 5., 6.]])>\n"
     ]
    }
   ],
   "source": [
    "const_1 = tf.constant([1, 2, 3])\n",
    "print(const_1)\n",
    "\n",
    "const_2 = tf.constant([[1, 2, 3], [4, 5, 6]], dtype=tf.float64)\n",
    "print(const_2)\n",
    "\n",
    "var_1 = tf.Variable([[1, 2, 3], [4, 5, 6]], dtype=tf.float64)\n",
    "print(var_1)"
   ]
  },
  {
   "cell_type": "markdown",
   "metadata": {},
   "source": [
    "Having a tensor you also have a numpy array and vice versa"
   ]
  },
  {
   "cell_type": "code",
   "execution_count": 5,
   "metadata": {},
   "outputs": [
    {
     "name": "stdout",
     "output_type": "stream",
     "text": [
      "tf.Tensor(\n",
      "[[1 2 3]\n",
      " [4 5 6]], shape=(2, 3), dtype=int32)\n",
      "[[1. 2. 3.]\n",
      " [4. 5. 6.]]\n"
     ]
    }
   ],
   "source": [
    "first_arr = np.array([[1, 2, 3], [4, 5, 6]])\n",
    "const_3 = tf.constant(first_arr)  # converting numpy array to a tensor\n",
    "print(const_3)  # dtype=int32\n",
    "\n",
    "second_arr = var_1.numpy()  # converting a tensor to a numpy array\n",
    "print(second_arr)"
   ]
  },
  {
   "cell_type": "markdown",
   "metadata": {},
   "source": [
    "Some times we have to cast our tensors to other data types"
   ]
  },
  {
   "cell_type": "code",
   "execution_count": 6,
   "metadata": {},
   "outputs": [
    {
     "name": "stdout",
     "output_type": "stream",
     "text": [
      "tf.Tensor(\n",
      "[[1. 2. 3.]\n",
      " [4. 5. 6.]], shape=(2, 3), dtype=float16)\n"
     ]
    }
   ],
   "source": [
    "const_4 = tf.cast(const_3, tf.float16)\n",
    "print(const_4)  # dtype=float16"
   ]
  },
  {
   "cell_type": "markdown",
   "metadata": {},
   "source": [
    "Time to get familiar by a few operators on tensors"
   ]
  },
  {
   "cell_type": "code",
   "execution_count": 7,
   "metadata": {},
   "outputs": [
    {
     "name": "stdout",
     "output_type": "stream",
     "text": [
      "[[19 31]\n",
      " [55 67]]\n",
      "[[ 2  4  6]\n",
      " [ 8 10 12]]\n",
      "[[ 3  6  9]\n",
      " [-4 -5 -6]]\n",
      "[[ 3  6  9]\n",
      " [-4 -5 -6]]\n",
      "[[4 5 6]\n",
      " [3 4 5]]\n"
     ]
    }
   ],
   "source": [
    "a = tf.Variable([[1, 2, 3], [4, 5, 6]])\n",
    "b = tf.Variable([[5, 2], [7, 1], [0, 9]])\n",
    "print(tf.matmul(a, b).numpy())  # MatMul =MatrixMultiplication\n",
    "print(tf.multiply(a, 2).numpy())  # multiply = element wise multiplication\n",
    "\n",
    "\n",
    "c = tf.Variable([[3], [-1]])\n",
    "print(tf.multiply(a, c).numpy())  # I need your attention here. See how c propagates\n",
    "print((a*c).numpy())  # tf.multiply(a, c) = a * c\n",
    "\n",
    "print(tf.add(a, c).numpy())  # propagation"
   ]
  },
  {
   "cell_type": "code",
   "execution_count": null,
   "metadata": {},
   "outputs": [],
   "source": []
  }
 ],
 "metadata": {
  "kernelspec": {
   "display_name": "Python 3",
   "language": "python",
   "name": "python3"
  },
  "language_info": {
   "codemirror_mode": {
    "name": "ipython",
    "version": 3
   },
   "file_extension": ".py",
   "mimetype": "text/x-python",
   "name": "python",
   "nbconvert_exporter": "python",
   "pygments_lexer": "ipython3",
   "version": "3.7.6"
  }
 },
 "nbformat": 4,
 "nbformat_minor": 4
}
